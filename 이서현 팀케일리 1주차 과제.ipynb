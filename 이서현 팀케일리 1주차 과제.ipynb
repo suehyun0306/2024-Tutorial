{
 "cells": [
  {
   "cell_type": "code",
   "execution_count": 1,
   "id": "a97ae795",
   "metadata": {},
   "outputs": [
    {
     "name": "stdout",
     "output_type": "stream",
     "text": [
      "1 2 3\n",
      "[1, 2, 3]\n",
      "Hello World !\n",
      "고다람\n"
     ]
    }
   ],
   "source": [
    "print(1,2,3)\n",
    "print([1,2,3])\n",
    "print(\"Hello\", \"World\", \"!\")\n",
    "\n",
    "a=1\n",
    "b=1\n",
    "a+b\n",
    "\n",
    "name=\"고다람\"\n",
    "print(name)"
   ]
  },
  {
   "cell_type": "code",
   "execution_count": 2,
   "id": "d641ed24",
   "metadata": {},
   "outputs": [
    {
     "name": "stdout",
     "output_type": "stream",
     "text": [
      "이건 한 줄 주석입니다.\n"
     ]
    }
   ],
   "source": [
    "print('이건 한 줄 주석입니다.')\n",
    "# 이건 실행이 될까요?"
   ]
  },
  {
   "cell_type": "code",
   "execution_count": 3,
   "id": "d382d905",
   "metadata": {},
   "outputs": [
    {
     "name": "stdout",
     "output_type": "stream",
     "text": [
      "이건 여러 줄 주석입니다.\n"
     ]
    },
    {
     "data": {
      "text/plain": [
       "'\\n이건 실행이 될까요?\\n'"
      ]
     },
     "execution_count": 3,
     "metadata": {},
     "output_type": "execute_result"
    }
   ],
   "source": [
    "print('이건 여러 줄 주석입니다.')\n",
    "'''\n",
    "이건 실행이 될까요?\n",
    "'''"
   ]
  },
  {
   "cell_type": "code",
   "execution_count": 4,
   "id": "4a7a22f1",
   "metadata": {},
   "outputs": [
    {
     "name": "stdout",
     "output_type": "stream",
     "text": [
      "이건 여러 줄 주석입니다.\n",
      "이제 여러 줄 주석은 실행되지 않습니다.\n"
     ]
    }
   ],
   "source": [
    "print('이건 여러 줄 주석입니다.')\n",
    "'''\n",
    "이건 실행이 될까요?\n",
    "'''\n",
    "print('이제 여러 줄 주석은 실행되지 않습니다.')"
   ]
  },
  {
   "cell_type": "code",
   "execution_count": 5,
   "id": "ed5305fc",
   "metadata": {},
   "outputs": [
    {
     "name": "stdout",
     "output_type": "stream",
     "text": [
      "17은 홀수입니다.\n"
     ]
    }
   ],
   "source": [
    "if 17%2==0:\n",
    "    print(\"17은 짝수입니다.\")\n",
    "else:\n",
    "    print(\"17은 홀수입니다.\")"
   ]
  },
  {
   "cell_type": "code",
   "execution_count": 6,
   "id": "004297b7",
   "metadata": {},
   "outputs": [
    {
     "name": "stdout",
     "output_type": "stream",
     "text": [
      "168.7\n"
     ]
    }
   ],
   "source": [
    "num = '168.7'\n",
    "print(float(num))"
   ]
  },
  {
   "cell_type": "code",
   "execution_count": 7,
   "id": "b6e2ee80",
   "metadata": {},
   "outputs": [
    {
     "name": "stdout",
     "output_type": "stream",
     "text": [
      "코사다\n"
     ]
    }
   ],
   "source": [
    "a='코사다마'\n",
    "print(a[:-1])"
   ]
  },
  {
   "cell_type": "code",
   "execution_count": 8,
   "id": "5421fccf",
   "metadata": {},
   "outputs": [
    {
     "name": "stdout",
     "output_type": "stream",
     "text": [
      "마다사코\n"
     ]
    }
   ],
   "source": [
    "a='코사다마'\n",
    "print(a[::-1])"
   ]
  },
  {
   "cell_type": "code",
   "execution_count": 9,
   "id": "e3347678",
   "metadata": {},
   "outputs": [
    {
     "name": "stdout",
     "output_type": "stream",
     "text": [
      "01012341234\n"
     ]
    }
   ],
   "source": [
    "phone_num = '010-1234-1234'\n",
    "print(phone_num.replace('-', ''))"
   ]
  },
  {
   "cell_type": "code",
   "execution_count": 10,
   "id": "00123757",
   "metadata": {},
   "outputs": [
    {
     "name": "stdout",
     "output_type": "stream",
     "text": [
      "입학연도: 2022 / 이름: 고다람 / 학번: 20221234\n"
     ]
    }
   ],
   "source": [
    "studentID = '20221234'\n",
    "name = '고다람'\n",
    "\n",
    "print(\"입학연도: %s / 이름: %s / 학번: %s\" %(studentID[0:4], name, studentID))"
   ]
  },
  {
   "cell_type": "code",
   "execution_count": 11,
   "id": "c6880e52",
   "metadata": {},
   "outputs": [
    {
     "name": "stdout",
     "output_type": "stream",
     "text": [
      "38.48451000647496\n"
     ]
    }
   ],
   "source": [
    "import math\n",
    "\n",
    "radius=3.5\n",
    "area=math.pi*radius**2\n",
    "print(area)"
   ]
  },
  {
   "cell_type": "code",
   "execution_count": null,
   "id": "13d8fbbe",
   "metadata": {},
   "outputs": [],
   "source": [
    "print(\"생년, 월, 일을 차례로 입력하세요.\")\n",
    "year=int(input(\"생년? \"))\n",
    "month=int(input(\"월? \"))\n",
    "day=int(input(\"일? \"))\n",
    "print(\"당신은 %d년 %d월 %d일에 태어났습니다.\" %(year, month, day))"
   ]
  },
  {
   "cell_type": "code",
   "execution_count": null,
   "id": "2872d7f8",
   "metadata": {},
   "outputs": [],
   "source": [
    "be=[0, 100, 100]\n",
    "hero=[70, 30, 0]\n",
    "jang=[100, 70, 80]\n",
    "\n",
    "be.append((be[0]+be[1]+be[2])/3)\n",
    "hero.append((hero[0]+hero[1]+hero[2])/3)\n",
    "jang.append((jang[0]+jang[1]+jang[2])/3)\n",
    "\n",
    "print((be[3]+hero[3]+jang[3])/3)"
   ]
  },
  {
   "cell_type": "code",
   "execution_count": null,
   "id": "9c7044d8",
   "metadata": {},
   "outputs": [],
   "source": [
    "print(\"생년, 월, 일을 차례로 입력하세요.\")\n",
    "year=int(input(\"생년? \"))\n",
    "month=int(input(\"월? \"))\n",
    "day=int(input(\"일? \"))\n",
    "print(\"당신은 %d년 %d월 %d일에 태어났습니다.\" %(year, month, day))"
   ]
  },
  {
   "cell_type": "code",
   "execution_count": 1,
   "id": "a42026a6",
   "metadata": {},
   "outputs": [
    {
     "name": "stdout",
     "output_type": "stream",
     "text": [
      "61.11111111111111\n"
     ]
    }
   ],
   "source": [
    "be=[0, 100, 100]\n",
    "hero=[70, 30, 0]\n",
    "jang=[100, 70, 80]\n",
    "\n",
    "be.append((be[0]+be[1]+be[2])/3)\n",
    "hero.append((hero[0]+hero[1]+hero[2])/3)\n",
    "jang.append((jang[0]+jang[1]+jang[2])/3)\n",
    "\n",
    "print((be[3]+hero[3]+jang[3])/3)"
   ]
  },
  {
   "cell_type": "code",
   "execution_count": 2,
   "id": "221eefec",
   "metadata": {},
   "outputs": [
    {
     "name": "stdout",
     "output_type": "stream",
     "text": [
      "생년, 월, 일을 차례로 입력하세요.\n",
      "생년? 2005\n",
      "월? 03\n",
      "일? 06\n",
      "당신은 2005년 3월 6일에 태어났습니다.\n"
     ]
    }
   ],
   "source": [
    "print(\"생년, 월, 일을 차례로 입력하세요.\")\n",
    "year=int(input(\"생년? \"))\n",
    "month=int(input(\"월? \"))\n",
    "day=int(input(\"일? \"))\n",
    "print(\"당신은 %d년 %d월 %d일에 태어났습니다.\" %(year, month, day))"
   ]
  },
  {
   "cell_type": "code",
   "execution_count": 5,
   "id": "d5381806",
   "metadata": {},
   "outputs": [
    {
     "name": "stdout",
     "output_type": "stream",
     "text": [
      "[19, 26, 34, 42, 54, 63, 64, 64, 67, 81, 90]\n",
      "19 90\n"
     ]
    }
   ],
   "source": [
    "import random\n",
    "\n",
    "number=[]\n",
    "for i in range(11):\n",
    "    number.append(random.randint(1,100))\n",
    "    \n",
    "number.sort()\n",
    "print(number)\n",
    "print(number[0], number[-1])"
   ]
  },
  {
   "cell_type": "code",
   "execution_count": null,
   "id": "0fdd3386",
   "metadata": {},
   "outputs": [],
   "source": []
  }
 ],
 "metadata": {
  "kernelspec": {
   "display_name": "Python 3 (ipykernel)",
   "language": "python",
   "name": "python3"
  },
  "language_info": {
   "codemirror_mode": {
    "name": "ipython",
    "version": 3
   },
   "file_extension": ".py",
   "mimetype": "text/x-python",
   "name": "python",
   "nbconvert_exporter": "python",
   "pygments_lexer": "ipython3",
   "version": "3.10.9"
  }
 },
 "nbformat": 4,
 "nbformat_minor": 5
}
